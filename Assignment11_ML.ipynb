{
  "nbformat": 4,
  "nbformat_minor": 0,
  "metadata": {
    "colab": {
      "provenance": []
    },
    "kernelspec": {
      "name": "python3",
      "display_name": "Python 3"
    },
    "language_info": {
      "name": "python"
    }
  },
  "cells": [
    {
      "cell_type": "markdown",
      "source": [
        "### Question 1: Explain the differences between AI, ML, Deep Learning (DL), and Data Science (DS).\n",
        "\n",
        "  * 1. Artificial Intelligence (AI):\n",
        "\n",
        "    * Definition: AI is the broadest field that refers to the simulation of human intelligence in machines.\n",
        "\n",
        "    * Goal: To build systems that can perform tasks that typically require human intelligence — like reasoning, decision-making, language understanding, and problem-solving.\n",
        "\n",
        "    * Examples: Chatbots, autonomous vehicles, recommendation systems, facial recognition.\n",
        "\n",
        "  * 2. Machine Learning (ML):\n",
        "\n",
        "    * Definition: ML is a subset of AI that enables systems to learn from data and improve over time without being explicitly programmed.\n",
        "\n",
        "    * Goal: To develop algorithms that can learn patterns from data and make decisions or predictions.\n",
        "\n",
        "    * Types:\n",
        "\n",
        "      * Supervised Learning (e.g., classification, regression)\n",
        "\n",
        "      * Unsupervised Learning (e.g., clustering)\n",
        "\n",
        "      * Reinforcement Learning\n",
        "\n",
        "    * Examples: Spam email detection, fraud detection, predictive text input.\n",
        "\n",
        "  * 3. Deep Learning (DL):\n",
        "\n",
        "    * Definition: DL is a subset of Machine Learning that uses neural networks with many layers (hence \"deep\") to model complex patterns in data.\n",
        "\n",
        "    * Goal: To automatically learn feature representations from raw data (like images, audio, or text) with minimal human intervention.\n",
        "\n",
        "    * Techniques: Convolutional Neural Networks (CNNs), Recurrent Neural Networks (RNNs), Transformers.\n",
        "\n",
        "    * Examples: Image recognition, speech-to-text, language translation, self-driving car perception.\n",
        "\n",
        "  * 4. Data Science (DS):\n",
        "\n",
        "    * Definition: Data Science is a multidisciplinary field that uses methods from statistics, ML, computer science, and domain knowledge to extract insights and knowledge from data.\n",
        "\n",
        "    * Goal: To analyze, interpret, and visualize data to help decision-making.\n",
        "\n",
        "    * Tools: Python, R, SQL, Tableau, Jupyter Notebooks.\n",
        "\n",
        "    * Examples: Business intelligence reporting, customer behavior analysis, trend forecasting.   "
      ],
      "metadata": {
        "id": "v8eS44dWx9sd"
      }
    },
    {
      "cell_type": "markdown",
      "source": [
        "### Question 2: What are the types of machine learning? Describe each with one real-world example.\n",
        "\n",
        "  * 1. Supervised Learning\n",
        "\n",
        "    * Definition: In supervised learning, the model is trained on a labeled dataset, meaning each input has a corresponding correct output.\n",
        "\n",
        "    * Goal: To learn a mapping from inputs to outputs so the model can predict outputs for new, unseen data.\n",
        "\n",
        "    * Common Tasks:\n",
        "\n",
        "      * Classification (predicting categories)\n",
        "\n",
        "      * Regression (predicting continuous values)\n",
        "\n",
        "    * Example:\n",
        "\n",
        "      * Email Spam Detection: The model is trained on a dataset of emails labeled as “spam” or “not spam.” It learns to classify new emails accordingly.\n",
        "\n",
        " * 2. Unsupervised Learning\n",
        "\n",
        "    * Definition: In unsupervised learning, the model is given unlabeled data, and it tries to learn the underlying structure or patterns.\n",
        "\n",
        "    * Goal: To find hidden patterns, groupings, or features in the data.\n",
        "\n",
        "    * Common Tasks:\n",
        "\n",
        "      * Clustering\n",
        "\n",
        "      * Dimensionality Reduction\n",
        "\n",
        "    * Example:\n",
        "\n",
        "      * Customer Segmentation: A retail company uses unsupervised learning to group customers based on purchasing behavior, helping to target marketing campaigns.\n",
        "\n",
        "  * 3. Semi-Supervised Learning\n",
        "\n",
        "    * Definition: This approach uses a small amount of labeled data and a large amount of unlabeled data.\n",
        "\n",
        "    * Goal: To improve learning accuracy without the need for extensive labeled data.\n",
        "\n",
        "    * Example:\n",
        "\n",
        "      * Medical Image Classification: Labeling medical scans is expensive and time-consuming. Semi-supervised learning can use a few labeled scans with many unlabeled ones to build an effective diagnostic model.\n",
        "\n",
        "  * 4. Reinforcement Learning\n",
        "\n",
        "    * Definition: The model (agent) learns by interacting with an environment, receiving rewards or penalties based on its actions.\n",
        "\n",
        "    * Goal: To learn a strategy (policy) to maximize cumulative reward.\n",
        "\n",
        "    * Key Concepts: Agent, environment, actions, rewards, policy.\n",
        "\n",
        "    * Example:\n",
        "\n",
        "      * Self-Driving Cars: The car learns how to drive by receiving rewards (e.g., staying in the lane) and penalties (e.g., crashing or running red lights) based on its driving decisions."
      ],
      "metadata": {
        "id": "leGzIlXizIvl"
      }
    },
    {
      "cell_type": "markdown",
      "source": [
        "### Question 3: Define overfitting, underfitting, and the bias-variance tradeoff in machine learning.\n",
        "\n",
        "  * Overfitting happens when a model learns the training data too well, including the noise and outliers, which leads to high accuracy on the training set but poor generalization to new, unseen data. This usually occurs when the model is too complex relative to the amount of data it is trained on.\n",
        "  * On the other hand, underfitting occurs when the model is too simple to capture the underlying patterns in the data, resulting in poor performance on both the training and testing sets. This can be due to insufficient model complexity or inadequate training.\n",
        "  * These issues are closely related to the concept of the bias-variance tradeoff. Bias refers to errors from overly simplistic assumptions in the model, which can cause underfitting. Variance refers to the model's sensitivity to small fluctuations in the training data, leading to overfitting. A good machine learning model aims to strike a balance between bias and variance — achieving low bias so it can learn the patterns in data, and low variance so it can generalize well to new data."
      ],
      "metadata": {
        "id": "vagRLjw_0I4g"
      }
    },
    {
      "cell_type": "markdown",
      "source": [
        "### Question 4: What are outliers in a dataset, and list three common techniques for handling them.\n",
        "\n",
        "  * Outliers in a dataset are data points that significantly deviate from the majority of the data. They can occur due to variability in data, measurement errors, data entry mistakes, or rare events. Outliers can distort statistical analyses and negatively affect the performance of machine learning models by skewing results, especially in models sensitive to data distribution (like linear regression).\n",
        "\n",
        "  * There are several techniques to handle outliers, and three common ones are:\n",
        "\n",
        "    * Removal of Outliers: If the outliers are due to errors or irrelevant rare cases, they can be safely removed to improve model performance. This is often done using methods like the Z-score or Interquartile Range (IQR) to detect extreme values.\n",
        "\n",
        "    * Transformation: Applying mathematical transformations such as logarithmic, square root, or Box-Cox transformation can reduce the impact of outliers by compressing the range of extreme values.\n",
        "\n",
        "    * Imputation or Capping (Winsorization): Instead of removing outliers, they can be replaced with a threshold value (like the 95th percentile), or imputed using the mean, median, or another calculated value that represents the normal range of the data."
      ],
      "metadata": {
        "id": "RtlOcBsq1COe"
      }
    },
    {
      "cell_type": "markdown",
      "source": [
        "### Question 5: Explain the process of handling missing values and mention one imputation technique for numerical and one for categorical data.\n",
        "\n",
        "  * Handling missing values is an essential step in data preprocessing, as missing data can lead to inaccurate analyses and poor model performance. The process typically involves identifying missing values, understanding the pattern and reason for their absence (e.g., Missing Completely at Random, Missing at Random, or Not Missing at Random), and then deciding on an appropriate strategy to handle them.\n",
        "\n",
        "  * Common steps include:\n",
        "\n",
        "    * Detecting missing values using functions or visualizations (like .isnull() in Python or heatmaps).\n",
        "\n",
        "    * Analyzing the extent of missing data and deciding whether to remove or impute them.\n",
        "\n",
        "    * Handling the missing data through deletion, imputation, or using algorithms that support missing values.\n",
        "\n",
        "    For numerical data, one commonly used imputation technique is mean imputation, where missing values are replaced with the mean of the non-missing values in that column. This helps preserve the dataset size without introducing much bias, especially when the data is normally distributed.\n",
        "\n",
        "    For categorical data, a common technique is mode imputation, where missing values are filled with the most frequent category (the mode) in that column. This is effective when a particular category dominates the dataset and helps maintain consistency in categorical distributions."
      ],
      "metadata": {
        "id": "h37ZLtwu1T_f"
      }
    },
    {
      "cell_type": "markdown",
      "source": [
        "### Question 6: Write a Python program that:\n",
        "### ● Creates a synthetic imbalanced dataset with make_classification() from sklearn.datasets.\n",
        "### ● Prints the class distribution."
      ],
      "metadata": {
        "id": "M2pxsXzl1s2f"
      }
    },
    {
      "cell_type": "code",
      "execution_count": 1,
      "metadata": {
        "colab": {
          "base_uri": "https://localhost:8080/"
        },
        "id": "waFiNLG1x2JB",
        "outputId": "850996bc-e0ad-4ae4-da4c-c552be34da73"
      },
      "outputs": [
        {
          "output_type": "stream",
          "name": "stdout",
          "text": [
            "Class Distribution: Counter({np.int64(0): 895, np.int64(1): 105})\n",
            "\n",
            "Formatted Class Distribution:\n",
            "\n",
            "       Count\n",
            "Class       \n",
            "0        895\n",
            "1        105\n"
          ]
        }
      ],
      "source": [
        "from sklearn.datasets import make_classification\n",
        "from collections import Counter\n",
        "import pandas as pd\n",
        "\n",
        "# Create an imbalanced dataset\n",
        "X, y = make_classification(\n",
        "    n_samples=1000,         # Total samples\n",
        "    n_features=10,          # Number of features\n",
        "    n_informative=2,        # Number of informative features\n",
        "    n_redundant=0,          # No redundant features\n",
        "    n_clusters_per_class=1,\n",
        "    weights=[0.9, 0.1],     # Imbalance: 90% of class 0, 10% of class 1\n",
        "    random_state=42\n",
        ")\n",
        "\n",
        "# Print class distribution\n",
        "class_distribution = Counter(y)\n",
        "print(\"Class Distribution:\", class_distribution)\n",
        "\n",
        "# Optional: Display as DataFrame for a nicer look\n",
        "df_distribution = pd.DataFrame.from_dict(class_distribution, orient='index', columns=['Count'])\n",
        "df_distribution.index.name = 'Class'\n",
        "print(\"\\nFormatted Class Distribution:\\n\")\n",
        "print(df_distribution)\n"
      ]
    },
    {
      "cell_type": "markdown",
      "source": [
        "### Question 7: Implement one-hot encoding using pandas for the following list of colors:\n",
        " ### ['Red', 'Green', 'Blue', 'Green', 'Red']. Print the resulting dataframe."
      ],
      "metadata": {
        "id": "MbmEo50o2Ico"
      }
    },
    {
      "cell_type": "code",
      "source": [
        "import pandas as pd\n",
        "\n",
        "# Original list of colors\n",
        "colors = ['Red', 'Green', 'Blue', 'Green', 'Red']\n",
        "\n",
        "# Create a DataFrame\n",
        "df = pd.DataFrame({'Color': colors})\n",
        "\n",
        "# Apply one-hot encoding\n",
        "one_hot_encoded = pd.get_dummies(df, columns=['Color'])\n",
        "\n",
        "# Print the resulting DataFrame\n",
        "print(\"One-Hot Encoded DataFrame:\\n\")\n",
        "print(one_hot_encoded)\n"
      ],
      "metadata": {
        "colab": {
          "base_uri": "https://localhost:8080/"
        },
        "id": "0oo5Lfai2Wdq",
        "outputId": "a2dfcfdf-20a3-4eac-bfdf-19de07b4493d"
      },
      "execution_count": 2,
      "outputs": [
        {
          "output_type": "stream",
          "name": "stdout",
          "text": [
            "One-Hot Encoded DataFrame:\n",
            "\n",
            "   Color_Blue  Color_Green  Color_Red\n",
            "0       False        False       True\n",
            "1       False         True      False\n",
            "2        True        False      False\n",
            "3       False         True      False\n",
            "4       False        False       True\n"
          ]
        }
      ]
    },
    {
      "cell_type": "markdown",
      "source": [
        "### Question 8: Write a Python script to:\n",
        "###● Generate 1000 samples from a normal distribution.\n",
        "###● Introduce 50 random missing values.\n",
        "###● Fill missing values with the column mean.\n",
        "###● Plot a histogram before and after imputation."
      ],
      "metadata": {
        "id": "DiSDdFPa2t3_"
      }
    },
    {
      "cell_type": "code",
      "source": [
        "import numpy as np\n",
        "import pandas as pd\n",
        "import matplotlib.pyplot as plt\n",
        "\n",
        "# Step 1: Generate 1000 samples from a normal distribution\n",
        "data = np.random.normal(loc=0, scale=1, size=1000)\n",
        "\n",
        "# Convert to a DataFrame for easier handling\n",
        "df = pd.DataFrame(data, columns=['Value'])\n",
        "\n",
        "# Step 2: Introduce 50 random missing values\n",
        "missing_indices = np.random.choice(df.index, size=50, replace=False)\n",
        "df.loc[missing_indices, 'Value'] = np.nan\n",
        "\n",
        "# Save a copy before imputation for plotting\n",
        "df_before = df.copy()\n",
        "\n",
        "# Step 3: Fill missing values with the column mean\n",
        "mean_value = df['Value'].mean()\n",
        "df['Value'].fillna(mean_value, inplace=True)\n",
        "\n",
        "# Step 4: Plot histograms before and after imputation\n",
        "plt.figure(figsize=(12, 5))\n",
        "\n",
        "# Before Imputation\n",
        "plt.subplot(1, 2, 1)\n",
        "plt.hist(df_before['Value'].dropna(), bins=30, color='skyblue', edgecolor='black')\n",
        "plt.title('Histogram Before Imputation')\n",
        "plt.xlabel('Value')\n",
        "plt.ylabel('Frequency')\n",
        "\n",
        "# After Imputation\n",
        "plt.subplot(1, 2, 2)\n",
        "plt.hist(df['Value'], bins=30, color='salmon', edgecolor='black')\n",
        "plt.title('Histogram After Imputation')\n",
        "plt.xlabel('Value')\n",
        "plt.ylabel('Frequency')\n",
        "\n",
        "plt.tight_layout()\n",
        "plt.show()\n"
      ],
      "metadata": {
        "colab": {
          "base_uri": "https://localhost:8080/",
          "height": 649
        },
        "id": "MObnJsEW203M",
        "outputId": "5220fb5f-754f-4e0e-b820-9750c41b3968"
      },
      "execution_count": 3,
      "outputs": [
        {
          "output_type": "stream",
          "name": "stderr",
          "text": [
            "/tmp/ipython-input-2367245884.py:20: FutureWarning: A value is trying to be set on a copy of a DataFrame or Series through chained assignment using an inplace method.\n",
            "The behavior will change in pandas 3.0. This inplace method will never work because the intermediate object on which we are setting values always behaves as a copy.\n",
            "\n",
            "For example, when doing 'df[col].method(value, inplace=True)', try using 'df.method({col: value}, inplace=True)' or df[col] = df[col].method(value) instead, to perform the operation inplace on the original object.\n",
            "\n",
            "\n",
            "  df['Value'].fillna(mean_value, inplace=True)\n"
          ]
        },
        {
          "output_type": "display_data",
          "data": {
            "text/plain": [
              "<Figure size 1200x500 with 2 Axes>"
            ],
            "image/png": "[encoded data removed]"
          },
          "metadata": {}
        }
      ]
    },
    {
      "cell_type": "markdown",
      "source": [
        "###Question 9: Implement Min-Max scaling on the following list of numbers [2, 5, 10, 15, 20] using sklearn.preprocessing.MinMaxScaler. Print the scaled array."
      ],
      "metadata": {
        "id": "YVbg0dTI29-g"
      }
    },
    {
      "cell_type": "code",
      "source": [
        "from sklearn.preprocessing import MinMaxScaler\n",
        "import numpy as np\n",
        "\n",
        "# Original list\n",
        "data = np.array([[2], [5], [10], [15], [20]])\n",
        "\n",
        "# Create the scaler\n",
        "scaler = MinMaxScaler()\n",
        "\n",
        "# Fit and transform the data\n",
        "scaled_data = scaler.fit_transform(data)\n",
        "\n",
        "# Print the scaled array\n",
        "print(\"Scaled Array:\\n\", scaled_data)\n"
      ],
      "metadata": {
        "colab": {
          "base_uri": "https://localhost:8080/"
        },
        "id": "u6uO_fMb3EVX",
        "outputId": "1fe898d1-024f-4271-e4f9-5ac9f6b47cc3"
      },
      "execution_count": 6,
      "outputs": [
        {
          "output_type": "stream",
          "name": "stdout",
          "text": [
            "Scaled Array:\n",
            " [[0.        ]\n",
            " [0.16666667]\n",
            " [0.44444444]\n",
            " [0.72222222]\n",
            " [1.        ]]\n"
          ]
        }
      ]
    },
    {
      "cell_type": "markdown",
      "source": [
        "###Question 10: You are working as a data scientist for a retail company. You receive a customer transaction dataset that contains:\n",
        "###● Missing ages,\n",
        "###● Outliers in transaction amount,\n",
        "###● A highly imbalanced target (fraud vs. non-fraud),\n",
        "###● Categorical variables like payment method.\n",
        "###Explain the step-by-step data preparation plan you’d follow before training a machine learning model. Include how you’d address missing data, outliers, imbalance, and encoding.\n",
        "\n",
        "  * 1. Understand the Data\n",
        "\n",
        "    Explore the dataset by checking summary statistics, missing values, data types, and unique values.\n",
        "\n",
        "    Visualize distributions for numerical variables (e.g., age, transaction amount) and categorical variables (e.g., payment method).\n",
        "\n",
        "    Check class distribution of the target variable (fraud vs. non-fraud).\n",
        "\n",
        "  * 2. Handling Missing Data (Ages)\n",
        "\n",
        "    Analyze missingness: Determine if age is missing completely at random or has some pattern.\n",
        "\n",
        "    Imputation:\n",
        "\n",
        "      * For missing ages, use median imputation (robust to outliers) or predictive imputation (e.g., train a regression model using other features to predict age).\n",
        "\n",
        "      * Alternatively, if missing age is a significant category itself, create a missing indicator flag.\n",
        "\n",
        "  * 3. Handling Outliers (Transaction Amount)\n",
        "\n",
        "    Detect outliers using methods like:\n",
        "\n",
        "      * Interquartile Range (IQR) method,\n",
        "\n",
        "      * Z-score method, or\n",
        "\n",
        "      * Visualizations like boxplots.\n",
        "\n",
        "    Address outliers by:\n",
        "\n",
        "      * Capping (Winsorization): Limit extreme values to a threshold percentile (e.g., 1st and 99th percentile).\n",
        "\n",
        "      * Transformation: Apply log or square root transform to reduce skewness.\n",
        "\n",
        "      * Or remove outliers if they are due to errors or irrelevant to the analysis.\n",
        "\n",
        "  * 4. Handling Imbalanced Target (Fraud vs. Non-Fraud)\n",
        "\n",
        "    Since fraud cases are usually rare (highly imbalanced), apply techniques like:\n",
        "\n",
        "    Resampling methods:\n",
        "\n",
        "      * Oversampling the minority class (e.g., SMOTE — Synthetic Minority Oversampling Technique).\n",
        "\n",
        "      * Undersampling the majority class.\n",
        "\n",
        "      * Or a combination (e.g., SMOTEENN).\n",
        "\n",
        "    Use appropriate evaluation metrics like Precision, Recall, F1-score, or ROC-AUC instead of accuracy.\n",
        "\n",
        "    Consider using algorithms that handle imbalance intrinsically or cost-sensitive learning.\n",
        "\n",
        "  * 5. Encoding Categorical Variables (Payment Method)\n",
        "\n",
        "    For nominal categories like payment method:\n",
        "\n",
        "      * Use One-Hot Encoding to convert categories into binary columns.\n",
        "\n",
        "    For ordinal categories (if any):\n",
        "\n",
        "      * Use Label Encoding or map categories to ordered numbers.\n",
        "\n",
        "    Handle rare categories by grouping them into an “Other” category if needed.\n",
        "\n",
        "  * 6. Feature Scaling\n",
        "\n",
        "    Apply scaling (e.g., Min-Max Scaling or Standardization) to numerical features, especially if the model is sensitive to feature scales (like logistic regression, SVM).\n",
        "\n",
        "  * 7. Final Steps\n",
        "\n",
        "    Split the data into training and testing sets (stratify by target to maintain imbalance ratio).\n",
        "\n",
        "    Perform cross-validation with preprocessing steps applied within each fold to avoid data leakage.\n",
        "\n",
        "    Document assumptions and preprocessing steps clearly for reproducibility."
      ],
      "metadata": {
        "id": "6fAAmY0n3Hjz"
      }
    }
  ]
}